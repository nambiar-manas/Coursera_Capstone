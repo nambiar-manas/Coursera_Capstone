{
    "cells": [
        {
            "cell_type": "markdown",
            "metadata": {
                "collapsed": true
            },
            "source": "# Introduction"
        },
        {
            "cell_type": "markdown",
            "metadata": {},
            "source": "This final project explores the best locations to put Indian restruants throughout New York. New York is one of the most famous citites in the world and is an iconic city in the United States. This city that has 8.4 million people(United States Census) and is an area that contains a plethora of communites, ethnicies, and cultures. Indian restraunts started opening around the 1900s in New York so these cuisines have been in New York for a long time. As an Indian American, I would like to explore Indian restraunt locations throughout New York and where new ones should open for the best business. I will attempt to answer the question \"Where should I open an Indian Restraunt?\" and identify areas that have a plethora of good indian restraunt options."
        },
        {
            "cell_type": "markdown",
            "metadata": {},
            "source": "# Data"
        },
        {
            "cell_type": "markdown",
            "metadata": {},
            "source": "To find out the answers about these Indian restraunts and where to open new ones, there is a lot of data needed about New Yorl incliding \ndata on New York City neighborhoods, boroughs to include boundaries, latitude, longitude, restaurants, and restaurant ratings and tips are required.\n\nNew York City data containing the neighborhoods and boroughs, latitudes, and longitudes will be obtained from the data source: https://cocl.us/new_york_dataset\n\nNew York City data containing neighborhood boundaries will be obtained from the data source: https://data.cityofnewyork.us/City-Government/Borough-Boundaries/tqmj-j8zm\n\nAll data related to locations and quality of Italian restaurants will be obtained via the FourSquare API utilized via the Request library in Python."
        }
    ],
    "metadata": {
        "kernelspec": {
            "display_name": "Python 3.6",
            "language": "python",
            "name": "python3"
        },
        "language_info": {
            "codemirror_mode": {
                "name": "ipython",
                "version": 3
            },
            "file_extension": ".py",
            "mimetype": "text/x-python",
            "name": "python",
            "nbconvert_exporter": "python",
            "pygments_lexer": "ipython3",
            "version": "3.6.9"
        }
    },
    "nbformat": 4,
    "nbformat_minor": 1
}